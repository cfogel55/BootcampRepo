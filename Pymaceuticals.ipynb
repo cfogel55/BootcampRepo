{
 "cells": [
  {
   "cell_type": "markdown",
   "metadata": {},
   "source": [
    "# Pymaceuticals Inc."
   ]
  },
  {
   "cell_type": "code",
   "execution_count": 157,
   "metadata": {},
   "outputs": [],
   "source": [
    "import pandas as pd\n",
    "import matplotlib.pyplot as plt\n",
    "import numpy as np\n",
    "\n",
    "file1 = \"clinicaltrial_data.csv\"\n",
    "file2 = \"mouse_drug_data.csv\"\n",
    "\n",
    "clinical_trial_data = pd.read_csv(file1)"
   ]
  },
  {
   "cell_type": "code",
   "execution_count": 181,
   "metadata": {},
   "outputs": [],
   "source": [
    "mouse_drug_data = pd.read_csv(file2) \n",
    "# Start with 250 mice. 10 drugs. Give each drug to 25 mice. \n",
    "# 10 different drugs x 25 mice per drug = 250 rows in mouse_drug_data. "
   ]
  },
  {
   "cell_type": "markdown",
   "metadata": {},
   "source": [
    "__Merge Datasets__"
   ]
  },
  {
   "cell_type": "code",
   "execution_count": 242,
   "metadata": {},
   "outputs": [],
   "source": [
    "merged_data = pd.merge(clinical_trial_data, mouse_drug_data, on=\"Mouse ID\")"
   ]
  },
  {
   "cell_type": "markdown",
   "metadata": {},
   "source": [
    "## Tumor Volume Changes"
   ]
  },
  {
   "cell_type": "code",
   "execution_count": 183,
   "metadata": {
    "scrolled": true
   },
   "outputs": [],
   "source": [
    "# Sort by mouse id and timepoint\n",
    "sorted_data = merged_data.sort_values(by=['Mouse ID', 'Timepoint'])"
   ]
  },
  {
   "cell_type": "code",
   "execution_count": 235,
   "metadata": {},
   "outputs": [],
   "source": [
    "# Calculate tumor change across timepoints. Store in tumor_changes list.\n",
    "\n",
    "prior_mouse = \"\"\n",
    "tumor_changes = []\n",
    "tumor_percent_changes = []\n",
    "\n",
    "for index, row in sorted_data.iterrows():\n",
    "    if row[0] != prior_mouse:\n",
    "        initial_tumor_volume = row[2]\n",
    "        prior_tumor_volume = initial_tumor_volume\n",
    "    \n",
    "    tumor_increase_decrease = row[2] - prior_tumor_volume\n",
    "    tumor_changes.append(tumor_increase_decrease)\n",
    "    tumor_percent_changes.append(tumor_increase_decrease / initial_tumor_volume)\n",
    "    \n",
    "    prior_mouse = row[0]\n",
    "    prior_tumor_volume = row[2]    "
   ]
  },
  {
   "cell_type": "code",
   "execution_count": 243,
   "metadata": {},
   "outputs": [
    {
     "data": {
      "text/html": [
       "<div>\n",
       "<style scoped>\n",
       "    .dataframe tbody tr th:only-of-type {\n",
       "        vertical-align: middle;\n",
       "    }\n",
       "\n",
       "    .dataframe tbody tr th {\n",
       "        vertical-align: top;\n",
       "    }\n",
       "\n",
       "    .dataframe thead th {\n",
       "        text-align: right;\n",
       "    }\n",
       "</style>\n",
       "<table border=\"1\" class=\"dataframe\">\n",
       "  <thead>\n",
       "    <tr style=\"text-align: right;\">\n",
       "      <th></th>\n",
       "      <th>Mouse ID</th>\n",
       "      <th>Timepoint</th>\n",
       "      <th>Tumor Volume (mm3)</th>\n",
       "      <th>Metastatic Sites</th>\n",
       "      <th>Drug</th>\n",
       "      <th>Tumor Change</th>\n",
       "      <th>Tumor Change Percent</th>\n",
       "    </tr>\n",
       "  </thead>\n",
       "  <tbody>\n",
       "    <tr>\n",
       "      <th>0</th>\n",
       "      <td>b128</td>\n",
       "      <td>0</td>\n",
       "      <td>45.000000</td>\n",
       "      <td>0</td>\n",
       "      <td>Capomulin</td>\n",
       "      <td>0.000000</td>\n",
       "      <td>0.000000</td>\n",
       "    </tr>\n",
       "    <tr>\n",
       "      <th>1</th>\n",
       "      <td>b128</td>\n",
       "      <td>5</td>\n",
       "      <td>45.651331</td>\n",
       "      <td>0</td>\n",
       "      <td>Capomulin</td>\n",
       "      <td>3.508468</td>\n",
       "      <td>0.077966</td>\n",
       "    </tr>\n",
       "    <tr>\n",
       "      <th>2</th>\n",
       "      <td>b128</td>\n",
       "      <td>10</td>\n",
       "      <td>43.270852</td>\n",
       "      <td>0</td>\n",
       "      <td>Capomulin</td>\n",
       "      <td>3.343969</td>\n",
       "      <td>0.074310</td>\n",
       "    </tr>\n",
       "    <tr>\n",
       "      <th>3</th>\n",
       "      <td>b128</td>\n",
       "      <td>15</td>\n",
       "      <td>43.784893</td>\n",
       "      <td>0</td>\n",
       "      <td>Capomulin</td>\n",
       "      <td>0.925433</td>\n",
       "      <td>0.020565</td>\n",
       "    </tr>\n",
       "    <tr>\n",
       "      <th>4</th>\n",
       "      <td>b128</td>\n",
       "      <td>20</td>\n",
       "      <td>42.731552</td>\n",
       "      <td>0</td>\n",
       "      <td>Capomulin</td>\n",
       "      <td>2.395466</td>\n",
       "      <td>0.053233</td>\n",
       "    </tr>\n",
       "  </tbody>\n",
       "</table>\n",
       "</div>"
      ],
      "text/plain": [
       "  Mouse ID  Timepoint  Tumor Volume (mm3)  Metastatic Sites       Drug  \\\n",
       "0     b128          0           45.000000                 0  Capomulin   \n",
       "1     b128          5           45.651331                 0  Capomulin   \n",
       "2     b128         10           43.270852                 0  Capomulin   \n",
       "3     b128         15           43.784893                 0  Capomulin   \n",
       "4     b128         20           42.731552                 0  Capomulin   \n",
       "\n",
       "   Tumor Change  Tumor Change Percent  \n",
       "0      0.000000              0.000000  \n",
       "1      3.508468              0.077966  \n",
       "2      3.343969              0.074310  \n",
       "3      0.925433              0.020565  \n",
       "4      2.395466              0.053233  "
      ]
     },
     "execution_count": 243,
     "metadata": {},
     "output_type": "execute_result"
    }
   ],
   "source": [
    "# Add column to dataframe\n",
    "merged_data['Tumor Change'] = tumor_changes\n",
    "merged_data['Tumor Change Percent'] = tumor_percent_changes\n",
    "merged_data.head()"
   ]
  },
  {
   "cell_type": "markdown",
   "metadata": {},
   "source": [
    "#### Capomulin"
   ]
  },
  {
   "cell_type": "code",
   "execution_count": 223,
   "metadata": {},
   "outputs": [],
   "source": [
    "Drug1_TumorChange = merged_data[(merged_data['Drug'] == 'Capomulin')]"
   ]
  },
  {
   "cell_type": "code",
   "execution_count": 224,
   "metadata": {},
   "outputs": [],
   "source": [
    "data_ordered_by_Timepoint = Drug1_TumorChange.sort_values(by=['Timepoint'])\n",
    "x_axis = list(Drug1_TumorChange['Timepoint'])\n",
    "y_axis = list(Drug1_TumorChange['Tumor Change'])"
   ]
  },
  {
   "cell_type": "code",
   "execution_count": 225,
   "metadata": {},
   "outputs": [
    {
     "data": {
      "text/plain": [
       "Text(0.5,0,'Treatment Day')"
      ]
     },
     "execution_count": 225,
     "metadata": {},
     "output_type": "execute_result"
    },
    {
     "data": {
      "image/png": "[encoded data removed]",
      "text/plain": [
       "<Figure size 432x288 with 1 Axes>"
      ]
     },
     "metadata": {
      "needs_background": "light"
     },
     "output_type": "display_data"
    }
   ],
   "source": [
    "x_limit = 45\n",
    "\n",
    "plt.scatter(x_axis, y_axis, marker=\"o\", facecolors=\"red\", edgecolors=\"black\", s=x_axis, alpha=0.75)\n",
    "\n",
    "minimum_y_value = min(y_axis)\n",
    "maximum_y_value = max(y_axis)\n",
    "\n",
    "# Add 10 to top and bottom, so y value is not on x_axis.\n",
    "plt.ylim(minimum_y_value, maximum_y_value)\n",
    "plt.xlim(0, x_limit)\n",
    "\n",
    "plt.title(\"Tumor Changes using Capomulin\")\n",
    "plt.ylabel(\"Tumor Volume\")\n",
    "plt.xlabel(\"Treatment Day\")"
   ]
  },
  {
   "cell_type": "markdown",
   "metadata": {},
   "source": [
    "#### Infubinol"
   ]
  },
  {
   "cell_type": "code",
   "execution_count": 226,
   "metadata": {},
   "outputs": [],
   "source": [
    "Drug2_TumorChange = merged_data[(merged_data['Drug'] == 'Infubinol')]"
   ]
  },
  {
   "cell_type": "code",
   "execution_count": 227,
   "metadata": {},
   "outputs": [],
   "source": [
    "data_ordered_by_Timepoint = Drug2_TumorChange.sort_values(by=['Timepoint'])\n",
    "x_axis = list(Drug2_TumorChange['Timepoint'])\n",
    "y_axis = list(Drug2_TumorChange['Tumor Change'])"
   ]
  },
  {
   "cell_type": "code",
   "execution_count": 228,
   "metadata": {},
   "outputs": [
    {
     "data": {
      "text/plain": [
       "Text(0.5,0,'Treatment Day')"
      ]
     },
     "execution_count": 228,
     "metadata": {},
     "output_type": "execute_result"
    },
    {
     "data": {
      "image/png": "[encoded data removed]",
      "text/plain": [
       "<Figure size 432x288 with 1 Axes>"
      ]
     },
     "metadata": {
      "needs_background": "light"
     },
     "output_type": "display_data"
    }
   ],
   "source": [
    "x_limit = 45\n",
    "\n",
    "plt.scatter(x_axis, y_axis, marker=\"o\", facecolors=\"red\", edgecolors=\"black\", s=x_axis, alpha=0.75)\n",
    "\n",
    "minimum_y_value = min(y_axis)\n",
    "maximum_y_value = max(y_axis)\n",
    "\n",
    "# Add 10 to top and bottom, so y value is not on x_axis.\n",
    "plt.ylim(minimum_y_value, maximum_y_value)\n",
    "plt.xlim(0, x_limit)\n",
    "\n",
    "plt.title(\"Tumor Changes using Infubinol\")\n",
    "plt.ylabel(\"Tumor Volume\")\n",
    "plt.xlabel(\"Treatment Day\")"
   ]
  },
  {
   "cell_type": "markdown",
   "metadata": {},
   "source": [
    "#### Ketapril"
   ]
  },
  {
   "cell_type": "code",
   "execution_count": 229,
   "metadata": {},
   "outputs": [],
   "source": [
    "Drug3_TumorChange = merged_data[(merged_data['Drug'] == 'Ketapril')]"
   ]
  },
  {
   "cell_type": "code",
   "execution_count": 230,
   "metadata": {},
   "outputs": [],
   "source": [
    "data_ordered_by_Timepoint = Drug3_TumorChange.sort_values(by=['Timepoint'])\n",
    "x_axis = list(Drug3_TumorChange['Timepoint'])\n",
    "y_axis = list(Drug3_TumorChange['Tumor Change'])"
   ]
  },
  {
   "cell_type": "code",
   "execution_count": 231,
   "metadata": {},
   "outputs": [
    {
     "data": {
      "text/plain": [
       "Text(0.5,0,'Treatment Day')"
      ]
     },
     "execution_count": 231,
     "metadata": {},
     "output_type": "execute_result"
    },
    {
     "data": {
      "image/png": "[encoded data removed]",
      "text/plain": [
       "<Figure size 432x288 with 1 Axes>"
      ]
     },
     "metadata": {
      "needs_background": "light"
     },
     "output_type": "display_data"
    }
   ],
   "source": [
    "x_limit = 45\n",
    "\n",
    "plt.scatter(x_axis, y_axis, marker=\"o\", facecolors=\"red\", edgecolors=\"black\", s=x_axis, alpha=0.75)\n",
    "\n",
    "minimum_y_value = min(y_axis)\n",
    "maximum_y_value = max(y_axis)\n",
    "\n",
    "# Add 10 to top and bottom, so y value is not on x_axis.\n",
    "plt.ylim(minimum_y_value, maximum_y_value)\n",
    "plt.xlim(0, x_limit)\n",
    "\n",
    "plt.title(\"Tumor Changes using Ketapril\")\n",
    "plt.ylabel(\"Tumor Volume\")\n",
    "plt.xlabel(\"Treatment Day\")"
   ]
  },
  {
   "cell_type": "markdown",
   "metadata": {},
   "source": [
    "#### Placebo"
   ]
  },
  {
   "cell_type": "code",
   "execution_count": 232,
   "metadata": {},
   "outputs": [],
   "source": [
    "Drug4_TumorChange = merged_data[(merged_data['Drug'] == 'Placebo')]"
   ]
  },
  {
   "cell_type": "code",
   "execution_count": 233,
   "metadata": {},
   "outputs": [],
   "source": [
    "data_ordered_by_Timepoint = Drug4_TumorChange.sort_values(by=['Timepoint'])\n",
    "x_axis = list(Drug4_TumorChange['Timepoint'])\n",
    "y_axis = list(Drug4_TumorChange['Tumor Change'])"
   ]
  },
  {
   "cell_type": "code",
   "execution_count": 234,
   "metadata": {},
   "outputs": [
    {
     "data": {
      "text/plain": [
       "Text(0.5,0,'Treatment Day')"
      ]
     },
     "execution_count": 234,
     "metadata": {},
     "output_type": "execute_result"
    },
    {
     "data": {
      "image/png": "[encoded data removed]",
      "text/plain": [
       "<Figure size 432x288 with 1 Axes>"
      ]
     },
     "metadata": {
      "needs_background": "light"
     },
     "output_type": "display_data"
    }
   ],
   "source": [
    "x_limit = 45\n",
    "\n",
    "plt.scatter(x_axis, y_axis, marker=\"o\", facecolors=\"red\", edgecolors=\"black\", s=x_axis, alpha=0.75)\n",
    "\n",
    "minimum_y_value = min(y_axis)\n",
    "maximum_y_value = max(y_axis)\n",
    "\n",
    "# Add 10 to top and bottom, so y value is not on x_axis.\n",
    "plt.ylim(minimum_y_value, maximum_y_value)\n",
    "plt.xlim(0, x_limit)\n",
    "\n",
    "plt.title(\"Tumor Changes using Placebo\")\n",
    "plt.ylabel(\"Tumor Volume\")\n",
    "plt.xlabel(\"Treatment Day\")"
   ]
  },
  {
   "cell_type": "code",
   "execution_count": 216,
   "metadata": {},
   "outputs": [],
   "source": [
    "# Filter for 4 drugs to analyze.\n",
    "filtered_4_drugs = merged_data[(merged_data['Drug'] == 'Capomulin') |\n",
    "                               (merged_data['Drug']== 'Infubinol') | \n",
    "                               (merged_data['Drug']== 'Ketapril') | \n",
    "                               (merged_data['Drug']== 'Placebo')]\n"
   ]
  },
  {
   "cell_type": "code",
   "execution_count": 166,
   "metadata": {},
   "outputs": [],
   "source": []
  },
  {
   "cell_type": "markdown",
   "metadata": {},
   "source": [
    "## Survival Rate"
   ]
  },
  {
   "cell_type": "code",
   "execution_count": 168,
   "metadata": {},
   "outputs": [
    {
     "data": {
      "text/html": [
       "<div>\n",
       "<style scoped>\n",
       "    .dataframe tbody tr th:only-of-type {\n",
       "        vertical-align: middle;\n",
       "    }\n",
       "\n",
       "    .dataframe tbody tr th {\n",
       "        vertical-align: top;\n",
       "    }\n",
       "\n",
       "    .dataframe thead th {\n",
       "        text-align: right;\n",
       "    }\n",
       "</style>\n",
       "<table border=\"1\" class=\"dataframe\">\n",
       "  <thead>\n",
       "    <tr style=\"text-align: right;\">\n",
       "      <th></th>\n",
       "      <th># Mice Alive</th>\n",
       "    </tr>\n",
       "    <tr>\n",
       "      <th>Treatment Day</th>\n",
       "      <th></th>\n",
       "    </tr>\n",
       "  </thead>\n",
       "  <tbody>\n",
       "    <tr>\n",
       "      <th>0</th>\n",
       "      <td>100</td>\n",
       "    </tr>\n",
       "    <tr>\n",
       "      <th>5</th>\n",
       "      <td>97</td>\n",
       "    </tr>\n",
       "    <tr>\n",
       "      <th>10</th>\n",
       "      <td>92</td>\n",
       "    </tr>\n",
       "    <tr>\n",
       "      <th>15</th>\n",
       "      <td>84</td>\n",
       "    </tr>\n",
       "    <tr>\n",
       "      <th>20</th>\n",
       "      <td>81</td>\n",
       "    </tr>\n",
       "    <tr>\n",
       "      <th>25</th>\n",
       "      <td>76</td>\n",
       "    </tr>\n",
       "    <tr>\n",
       "      <th>30</th>\n",
       "      <td>72</td>\n",
       "    </tr>\n",
       "    <tr>\n",
       "      <th>35</th>\n",
       "      <td>65</td>\n",
       "    </tr>\n",
       "    <tr>\n",
       "      <th>40</th>\n",
       "      <td>58</td>\n",
       "    </tr>\n",
       "    <tr>\n",
       "      <th>45</th>\n",
       "      <td>52</td>\n",
       "    </tr>\n",
       "  </tbody>\n",
       "</table>\n",
       "</div>"
      ],
      "text/plain": [
       "               # Mice Alive\n",
       "Treatment Day              \n",
       "0                       100\n",
       "5                        97\n",
       "10                       92\n",
       "15                       84\n",
       "20                       81\n",
       "25                       76\n",
       "30                       72\n",
       "35                       65\n",
       "40                       58\n",
       "45                       52"
      ]
     },
     "execution_count": 168,
     "metadata": {},
     "output_type": "execute_result"
    }
   ],
   "source": [
    "# Count of each Timepoint value indicates the number of mice that had a treatment at that timepoint (that day).\n",
    "# If they didn't have a treatment at that timepoint, they died prior to that treatment.\n",
    "num_alive = filtered_4_drugs.Timepoint.value_counts().values\n",
    "\n",
    "x_limit = 45\n",
    "x_axis = np.arange(0, x_limit + 5, 5)\n",
    "\n",
    "survival_df = pd.DataFrame ({\n",
    "    \"Treatment Day\": x_axis,\n",
    "    \"# Mice Alive\": num_alive\n",
    "})\n",
    "survival_df = survival_df.set_index(\"Treatment Day\")\n",
    "survival_df"
   ]
  },
  {
   "cell_type": "code",
   "execution_count": 169,
   "metadata": {},
   "outputs": [
    {
     "data": {
      "text/plain": [
       "Text(0.5,0,'Treatment Day')"
      ]
     },
     "execution_count": 169,
     "metadata": {},
     "output_type": "execute_result"
    },
    {
     "data": {
      "image/png": "[encoded data removed]",
      "text/plain": [
       "<Figure size 432x288 with 1 Axes>"
      ]
     },
     "metadata": {
      "needs_background": "light"
     },
     "output_type": "display_data"
    }
   ],
   "source": [
    "plt.scatter(x_axis, num_alive, marker=\"o\", facecolors=\"red\", edgecolors=\"black\", s=x_axis, alpha=0.75)\n",
    "\n",
    "minimum_y_value = filtered_4_drugs.Timepoint.value_counts().min() \n",
    "maximum_y_value = filtered_4_drugs.Timepoint.value_counts().max() \n",
    "\n",
    "# Add 10 to top and bottom, so y value is not on x_axis.\n",
    "plt.ylim(minimum_y_value - 10, maximum_y_value + 10)\n",
    "plt.xlim(0 - 5, x_limit + 5)\n",
    "\n",
    "plt.title(\"Survival Rate over Course of Treatment\")\n",
    "plt.ylabel(\"# Mice Alive\")\n",
    "plt.xlabel(\"Treatment Day\")\n",
    "\n",
    "# NOT SHOWING VALUE AT DAY 0\n"
   ]
  },
  {
   "cell_type": "code",
   "execution_count": 170,
   "metadata": {},
   "outputs": [],
   "source": [
    "# ISSUES:\n",
    "#    Survival Rate scatter plot - NOT SHOWING VALUE AT DAY 0\n",
    "#    len(clinical_trial_data) = 1893\n",
    "#    len(merged_data) = 1906\n",
    "#    len(mouse_drug_data) = 250"
   ]
  },
  {
   "cell_type": "markdown",
   "metadata": {},
   "source": [
    "### Total % Tumor Volume Change"
   ]
  },
  {
   "cell_type": "code",
   "execution_count": 244,
   "metadata": {},
   "outputs": [
    {
     "data": {
      "text/html": [
       "<div>\n",
       "<style scoped>\n",
       "    .dataframe tbody tr th:only-of-type {\n",
       "        vertical-align: middle;\n",
       "    }\n",
       "\n",
       "    .dataframe tbody tr th {\n",
       "        vertical-align: top;\n",
       "    }\n",
       "\n",
       "    .dataframe thead th {\n",
       "        text-align: right;\n",
       "    }\n",
       "</style>\n",
       "<table border=\"1\" class=\"dataframe\">\n",
       "  <thead>\n",
       "    <tr style=\"text-align: right;\">\n",
       "      <th></th>\n",
       "      <th>Mouse ID</th>\n",
       "      <th>Timepoint</th>\n",
       "      <th>Tumor Volume (mm3)</th>\n",
       "      <th>Metastatic Sites</th>\n",
       "      <th>Drug</th>\n",
       "      <th>Tumor Change</th>\n",
       "      <th>Tumor Change Percent</th>\n",
       "    </tr>\n",
       "  </thead>\n",
       "  <tbody>\n",
       "    <tr>\n",
       "      <th>0</th>\n",
       "      <td>b128</td>\n",
       "      <td>0</td>\n",
       "      <td>45.000000</td>\n",
       "      <td>0</td>\n",
       "      <td>Capomulin</td>\n",
       "      <td>0.000000</td>\n",
       "      <td>0.000000</td>\n",
       "    </tr>\n",
       "    <tr>\n",
       "      <th>1</th>\n",
       "      <td>b128</td>\n",
       "      <td>5</td>\n",
       "      <td>45.651331</td>\n",
       "      <td>0</td>\n",
       "      <td>Capomulin</td>\n",
       "      <td>3.508468</td>\n",
       "      <td>0.077966</td>\n",
       "    </tr>\n",
       "    <tr>\n",
       "      <th>2</th>\n",
       "      <td>b128</td>\n",
       "      <td>10</td>\n",
       "      <td>43.270852</td>\n",
       "      <td>0</td>\n",
       "      <td>Capomulin</td>\n",
       "      <td>3.343969</td>\n",
       "      <td>0.074310</td>\n",
       "    </tr>\n",
       "    <tr>\n",
       "      <th>3</th>\n",
       "      <td>b128</td>\n",
       "      <td>15</td>\n",
       "      <td>43.784893</td>\n",
       "      <td>0</td>\n",
       "      <td>Capomulin</td>\n",
       "      <td>0.925433</td>\n",
       "      <td>0.020565</td>\n",
       "    </tr>\n",
       "    <tr>\n",
       "      <th>4</th>\n",
       "      <td>b128</td>\n",
       "      <td>20</td>\n",
       "      <td>42.731552</td>\n",
       "      <td>0</td>\n",
       "      <td>Capomulin</td>\n",
       "      <td>2.395466</td>\n",
       "      <td>0.053233</td>\n",
       "    </tr>\n",
       "  </tbody>\n",
       "</table>\n",
       "</div>"
      ],
      "text/plain": [
       "  Mouse ID  Timepoint  Tumor Volume (mm3)  Metastatic Sites       Drug  \\\n",
       "0     b128          0           45.000000                 0  Capomulin   \n",
       "1     b128          5           45.651331                 0  Capomulin   \n",
       "2     b128         10           43.270852                 0  Capomulin   \n",
       "3     b128         15           43.784893                 0  Capomulin   \n",
       "4     b128         20           42.731552                 0  Capomulin   \n",
       "\n",
       "   Tumor Change  Tumor Change Percent  \n",
       "0      0.000000              0.000000  \n",
       "1      3.508468              0.077966  \n",
       "2      3.343969              0.074310  \n",
       "3      0.925433              0.020565  \n",
       "4      2.395466              0.053233  "
      ]
     },
     "execution_count": 244,
     "metadata": {},
     "output_type": "execute_result"
    }
   ],
   "source": [
    "merged_data.head()"
   ]
  },
  {
   "cell_type": "code",
   "execution_count": 256,
   "metadata": {},
   "outputs": [
    {
     "data": {
      "image/png": "[encoded data removed]",
      "text/plain": [
       "<Figure size 432x288 with 1 Axes>"
      ]
     },
     "metadata": {
      "needs_background": "light"
     },
     "output_type": "display_data"
    }
   ],
   "source": [
    "x_axis = np.arange(10)\n",
    "\n",
    "Drug1_Filter = merged_data.loc[merged_data.Drug == 'Capomulin']\n",
    "y_axis = Drug1_Filter.groupby('Timepoint')['Tumor Change Percent'].mean()\n",
    "plt.bar(x_axis, y_axis, color='r', alpha=0.5, align=\"center\")\n",
    "\n",
    "Drug2_Filter = merged_data.loc[merged_data.Drug == 'Infubinol']\n",
    "y_axis = Drug2_Filter.groupby('Timepoint')['Tumor Change Percent'].mean()\n",
    "plt.bar(x_axis, y_axis, color='r', alpha=0.5, align=\"center\")\n",
    "\n",
    "Drug3_Filter = merged_data.loc[merged_data.Drug == 'Ketapril']\n",
    "y_axis = Drug3_Filter.groupby('Timepoint')['Tumor Change Percent'].mean()\n",
    "plt.bar(x_axis, y_axis, color='r', alpha=0.5, align=\"center\")\n",
    "\n",
    "Drug4_Filter = merged_data.loc[merged_data.Drug == 'Placebo']\n",
    "y_axis = Drug4_Filter.groupby('Timepoint')['Tumor Change Percent'].mean()\n",
    "plt.bar(x_axis, y_axis, color='r', alpha=0.5, align=\"center\")\n",
    "\n",
    "plt.title(\"Total % Tumor Volume Change\")\n",
    "plt.xlabel(\"Treatment Day\")\n",
    "plt.ylabel(\"Total % Tumor Volume Change\")\n",
    "plt.show()"
   ]
  },
  {
   "cell_type": "code",
   "execution_count": null,
   "metadata": {},
   "outputs": [],
   "source": []
  }
 ],
 "metadata": {
  "kernelspec": {
   "display_name": "Python 3",
   "language": "python",
   "name": "python3"
  },
  "language_info": {
   "codemirror_mode": {
    "name": "ipython",
    "version": 3
   },
   "file_extension": ".py",
   "mimetype": "text/x-python",
   "name": "python",
   "nbconvert_exporter": "python",
   "pygments_lexer": "ipython3",
   "version": "3.7.0"
  }
 },
 "nbformat": 4,
 "nbformat_minor": 2
}
